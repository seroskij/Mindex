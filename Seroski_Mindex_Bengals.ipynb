{
 "cells": [
  {
   "cell_type": "code",
   "execution_count": 1,
   "id": "524283ee",
   "metadata": {},
   "outputs": [],
   "source": [
    "#import packages\n",
    "#Wow am I actually writing Python?\n",
    "import pandas as pd\n",
    "import boto3\n",
    "from boto3 import session\n",
    "from boto3 import client\n",
    "import os\n",
    "import io\n"
   ]
  },
  {
   "cell_type": "code",
   "execution_count": 21,
   "id": "e8f7f597",
   "metadata": {},
   "outputs": [
    {
     "name": "stdout",
     "output_type": "stream",
     "text": [
      "bengals.csv\n",
      "boyd_receiving.csv\n",
      "chase_receiving.csv\n",
      "higgins_receiving.csv\n"
     ]
    }
   ],
   "source": [
    "#Connect to S3\n",
    "#Keys passed through as Environmental Variables\n",
    "s3 = boto3.resource('s3')\n",
    "\n",
    "my_bucket = s3.Bucket('mindex-data-analytics-code-challenge')\n",
    "\n",
    "for file in my_bucket.objects.all():\n",
    "    print(file.key)"
   ]
  },
  {
   "cell_type": "code",
   "execution_count": 28,
   "id": "5d65a4ee",
   "metadata": {},
   "outputs": [],
   "source": [
    "#Download the files to a local directory\n",
    "#I am sure there is some kind of for loop I could do here\n",
    "s3 = boto3.client('s3')\n",
    "\n",
    "s3.download_file(\n",
    "    Bucket=\"mindex-data-analytics-code-challenge\", Key=\"bengals.csv\", Filename=r\"C:/Users/joe_s/OneDrive/Documents/bengals.csv\"\n",
    ")\n",
    "\n",
    "s3.download_file(\n",
    "    Bucket=\"mindex-data-analytics-code-challenge\", Key=\"boyd_receiving.csv\", Filename=r\"C:/Users/joe_s/OneDrive/Documents/boyd_receiving.csv\"\n",
    ")\n",
    "\n",
    "s3.download_file(\n",
    "    Bucket=\"mindex-data-analytics-code-challenge\", Key=\"chase_receiving.csv\", Filename=r\"C:/Users/joe_s/OneDrive/Documents/chase_receiving.csv\"\n",
    ")\n",
    "\n",
    "s3.download_file(\n",
    "    Bucket=\"mindex-data-analytics-code-challenge\", Key=\"higgins_receiving.csv\", Filename=r\"C:/Users/joe_s/OneDrive/Documents/higgins_receiving.csv\"\n",
    ")"
   ]
  },
  {
   "cell_type": "code",
   "execution_count": 33,
   "id": "76dfd129",
   "metadata": {},
   "outputs": [
    {
     "data": {
      "text/html": [
       "<div>\n",
       "<style scoped>\n",
       "    .dataframe tbody tr th:only-of-type {\n",
       "        vertical-align: middle;\n",
       "    }\n",
       "\n",
       "    .dataframe tbody tr th {\n",
       "        vertical-align: top;\n",
       "    }\n",
       "\n",
       "    .dataframe thead th {\n",
       "        text-align: right;\n",
       "    }\n",
       "</style>\n",
       "<table border=\"1\" class=\"dataframe\">\n",
       "  <thead>\n",
       "    <tr style=\"text-align: right;\">\n",
       "      <th></th>\n",
       "      <th>Week</th>\n",
       "      <th>Yards</th>\n",
       "      <th>TD</th>\n",
       "    </tr>\n",
       "  </thead>\n",
       "  <tbody>\n",
       "    <tr>\n",
       "      <th>0</th>\n",
       "      <td>REG1</td>\n",
       "      <td>58</td>\n",
       "      <td>1</td>\n",
       "    </tr>\n",
       "    <tr>\n",
       "      <th>1</th>\n",
       "      <td>REG2</td>\n",
       "      <td>60</td>\n",
       "      <td>1</td>\n",
       "    </tr>\n",
       "    <tr>\n",
       "      <th>2</th>\n",
       "      <td>REG5</td>\n",
       "      <td>32</td>\n",
       "      <td>0</td>\n",
       "    </tr>\n",
       "    <tr>\n",
       "      <th>3</th>\n",
       "      <td>REG6</td>\n",
       "      <td>44</td>\n",
       "      <td>0</td>\n",
       "    </tr>\n",
       "    <tr>\n",
       "      <th>4</th>\n",
       "      <td>REG7</td>\n",
       "      <td>62</td>\n",
       "      <td>0</td>\n",
       "    </tr>\n",
       "  </tbody>\n",
       "</table>\n",
       "</div>"
      ],
      "text/plain": [
       "   Week  Yards  TD\n",
       "0  REG1     58   1\n",
       "1  REG2     60   1\n",
       "2  REG5     32   0\n",
       "3  REG6     44   0\n",
       "4  REG7     62   0"
      ]
     },
     "execution_count": 33,
     "metadata": {},
     "output_type": "execute_result"
    }
   ],
   "source": [
    "#Read CSVs into Dataframes\n",
    "BTeam = pd.read_csv(\"C:/Users/joe_s/OneDrive/Documents/bengals.csv\")\n",
    "BTeam.head()\n",
    "\n",
    "Boyd = pd.read_csv(\"C:/Users/joe_s/OneDrive/Documents/boyd_receiving.csv\")\n",
    "Boyd.head()\n",
    "\n",
    "Chase = pd.read_csv(\"C:/Users/joe_s/OneDrive/Documents/chase_receiving.csv\")\n",
    "Chase.head()\n",
    "\n",
    "Higgins = pd.read_csv(\"C:/Users/joe_s/OneDrive/Documents/higgins_receiving.csv\")\n",
    "Higgins.head()"
   ]
  }
 ],
 "metadata": {
  "kernelspec": {
   "display_name": "Python 3 (ipykernel)",
   "language": "python",
   "name": "python3"
  },
  "language_info": {
   "codemirror_mode": {
    "name": "ipython",
    "version": 3
   },
   "file_extension": ".py",
   "mimetype": "text/x-python",
   "name": "python",
   "nbconvert_exporter": "python",
   "pygments_lexer": "ipython3",
   "version": "3.9.13"
  }
 },
 "nbformat": 4,
 "nbformat_minor": 5
}
