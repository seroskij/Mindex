{
 "cells": [
  {
   "cell_type": "code",
   "execution_count": 13,
   "id": "524283ee",
   "metadata": {},
   "outputs": [],
   "source": [
    "#import packages\n",
    "#Wow am I actually writing Python?\n",
    "import pandas as pd\n",
    "import boto3\n",
    "from boto3 import session\n",
    "from boto3 import client\n",
    "import os\n"
   ]
  },
  {
   "cell_type": "code",
   "execution_count": 15,
   "id": "995a1159",
   "metadata": {},
   "outputs": [
    {
     "name": "stdout",
     "output_type": "stream",
     "text": [
      "bengals.csv\n",
      "boyd_receiving.csv\n",
      "chase_receiving.csv\n",
      "higgins_receiving.csv\n"
     ]
    }
   ],
   "source": [
    "#Connect to S3\n",
    "#Keys passed through as Environmental Variables\n",
    "s3 = boto3.resource('s3')\n",
    "\n",
    "my_bucket = s3.Bucket('mindex-data-analytics-code-challenge')\n",
    "\n",
    "for file in my_bucket.objects.all():\n",
    "    print(file.key)"
   ]
  },
  {
   "cell_type": "code",
   "execution_count": null,
   "id": "39bae6a9",
   "metadata": {},
   "outputs": [],
   "source": []
  }
 ],
 "metadata": {
  "kernelspec": {
   "display_name": "Python 3 (ipykernel)",
   "language": "python",
   "name": "python3"
  },
  "language_info": {
   "codemirror_mode": {
    "name": "ipython",
    "version": 3
   },
   "file_extension": ".py",
   "mimetype": "text/x-python",
   "name": "python",
   "nbconvert_exporter": "python",
   "pygments_lexer": "ipython3",
   "version": "3.9.13"
  }
 },
 "nbformat": 4,
 "nbformat_minor": 5
}
