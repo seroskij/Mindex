{
 "cells": [
  {
   "cell_type": "code",
   "execution_count": 1,
   "id": "524283ee",
   "metadata": {},
   "outputs": [],
   "source": [
    "#import packages\n",
    "#Wow am I actually writing Python?\n",
    "import pandas as pd\n",
    "import boto3\n",
    "from boto3 import session\n",
    "from boto3 import client\n",
    "import os\n",
    "import io\n"
   ]
  },
  {
   "cell_type": "code",
   "execution_count": 21,
   "id": "f45e8eea",
   "metadata": {},
   "outputs": [
    {
     "name": "stdout",
     "output_type": "stream",
     "text": [
      "bengals.csv\n",
      "boyd_receiving.csv\n",
      "chase_receiving.csv\n",
      "higgins_receiving.csv\n"
     ]
    }
   ],
   "source": [
    "#Connect to S3\n",
    "#Keys passed through as Environmental Variables\n",
    "s3 = boto3.resource('s3')\n",
    "\n",
    "my_bucket = s3.Bucket('mindex-data-analytics-code-challenge')\n",
    "\n",
    "for file in my_bucket.objects.all():\n",
    "    print(file.key)"
   ]
  },
  {
   "cell_type": "code",
   "execution_count": 28,
   "id": "bea16efc",
   "metadata": {},
   "outputs": [],
   "source": [
    "#Download the files to a local directory\n",
    "#I am sure there is some kind of for loop I could do here\n",
    "s3 = boto3.client('s3')\n",
    "\n",
    "s3.download_file(\n",
    "    Bucket=\"mindex-data-analytics-code-challenge\", Key=\"bengals.csv\", Filename=r\"C:/Users/joe_s/OneDrive/Documents/bengals.csv\"\n",
    ")\n",
    "\n",
    "s3.download_file(\n",
    "    Bucket=\"mindex-data-analytics-code-challenge\", Key=\"boyd_receiving.csv\", Filename=r\"C:/Users/joe_s/OneDrive/Documents/boyd_receiving.csv\"\n",
    ")\n",
    "\n",
    "s3.download_file(\n",
    "    Bucket=\"mindex-data-analytics-code-challenge\", Key=\"chase_receiving.csv\", Filename=r\"C:/Users/joe_s/OneDrive/Documents/chase_receiving.csv\"\n",
    ")\n",
    "\n",
    "s3.download_file(\n",
    "    Bucket=\"mindex-data-analytics-code-challenge\", Key=\"higgins_receiving.csv\", Filename=r\"C:/Users/joe_s/OneDrive/Documents/higgins_receiving.csv\"\n",
    ")"
   ]
  },
  {
   "cell_type": "code",
   "execution_count": 35,
   "id": "53154c35",
   "metadata": {},
   "outputs": [
    {
     "data": {
      "text/html": [
       "<div>\n",
       "<style scoped>\n",
       "    .dataframe tbody tr th:only-of-type {\n",
       "        vertical-align: middle;\n",
       "    }\n",
       "\n",
       "    .dataframe tbody tr th {\n",
       "        vertical-align: top;\n",
       "    }\n",
       "\n",
       "    .dataframe thead th {\n",
       "        text-align: right;\n",
       "    }\n",
       "</style>\n",
       "<table border=\"1\" class=\"dataframe\">\n",
       "  <thead>\n",
       "    <tr style=\"text-align: right;\">\n",
       "      <th></th>\n",
       "      <th>Week</th>\n",
       "      <th>Yards</th>\n",
       "      <th>TD</th>\n",
       "    </tr>\n",
       "  </thead>\n",
       "  <tbody>\n",
       "    <tr>\n",
       "      <th>0</th>\n",
       "      <td>REG1</td>\n",
       "      <td>58</td>\n",
       "      <td>1</td>\n",
       "    </tr>\n",
       "    <tr>\n",
       "      <th>1</th>\n",
       "      <td>REG2</td>\n",
       "      <td>60</td>\n",
       "      <td>1</td>\n",
       "    </tr>\n",
       "    <tr>\n",
       "      <th>2</th>\n",
       "      <td>REG5</td>\n",
       "      <td>32</td>\n",
       "      <td>0</td>\n",
       "    </tr>\n",
       "    <tr>\n",
       "      <th>3</th>\n",
       "      <td>REG6</td>\n",
       "      <td>44</td>\n",
       "      <td>0</td>\n",
       "    </tr>\n",
       "    <tr>\n",
       "      <th>4</th>\n",
       "      <td>REG7</td>\n",
       "      <td>62</td>\n",
       "      <td>0</td>\n",
       "    </tr>\n",
       "  </tbody>\n",
       "</table>\n",
       "</div>"
      ],
      "text/plain": [
       "   Week  Yards  TD\n",
       "0  REG1     58   1\n",
       "1  REG2     60   1\n",
       "2  REG5     32   0\n",
       "3  REG6     44   0\n",
       "4  REG7     62   0"
      ]
     },
     "execution_count": 35,
     "metadata": {},
     "output_type": "execute_result"
    }
   ],
   "source": [
    "#Read CSVs into Dataframes\n",
    "#Entire Bengals team including win loss record\n",
    "BTeam = pd.read_csv(\"C:/Users/joe_s/OneDrive/Documents/bengals.csv\")\n",
    "\n",
    "#Tyler Boyd Stats\n",
    "Boyd = pd.read_csv(\"C:/Users/joe_s/OneDrive/Documents/boyd_receiving.csv\")\n",
    "\n",
    "#Jamaar Chase stats\n",
    "Chase = pd.read_csv(\"C:/Users/joe_s/OneDrive/Documents/chase_receiving.csv\")\n",
    "Chase.head()\n",
    "\n",
    "#Tee Higgins stats\n",
    "Higgins = pd.read_csv(\"C:/Users/joe_s/OneDrive/Documents/higgins_receiving.csv\")\n",
    "Higgins.head()"
   ]
  },
  {
   "cell_type": "code",
   "execution_count": 55,
   "id": "375179eb",
   "metadata": {},
   "outputs": [
    {
     "name": "stdout",
     "output_type": "stream",
     "text": [
      "<class 'pandas.core.frame.DataFrame'>\n",
      "RangeIndex: 25 entries, 0 to 24\n",
      "Data columns (total 4 columns):\n",
      " #   Column    Non-Null Count  Dtype  \n",
      "---  ------    --------------  -----  \n",
      " 0   Week      25 non-null     object \n",
      " 1   Opponent  24 non-null     object \n",
      " 2   Location  24 non-null     object \n",
      " 3   Result    24 non-null     float64\n",
      "dtypes: float64(1), object(3)\n",
      "memory usage: 928.0+ bytes\n"
     ]
    },
    {
     "data": {
      "text/plain": [
       "array(['PRE1', 'PRE2', 'PRE3', 'REG1', 'REG2', 'REG3', 'REG4', 'REG5',\n",
       "       'REG6', 'REG7', 'REG8', 'REG9', 'REG10', 'REG11', 'REG12', 'REG13',\n",
       "       'REG14', 'REG15', 'REG16', 'REG17', 'REG18', 'POST1', 'POST2',\n",
       "       'POST3', 'POST4'], dtype=object)"
      ]
     },
     "execution_count": 55,
     "metadata": {},
     "output_type": "execute_result"
    }
   ],
   "source": [
    "#Look at the structure of the BTeam\n",
    "BTeam.info()\n",
    "BTeam.Week.unique()"
   ]
  },
  {
   "cell_type": "code",
   "execution_count": 51,
   "id": "0ad72874",
   "metadata": {},
   "outputs": [
    {
     "name": "stdout",
     "output_type": "stream",
     "text": [
      "<class 'pandas.core.frame.DataFrame'>\n",
      "RangeIndex: 20 entries, 0 to 19\n",
      "Data columns (total 3 columns):\n",
      " #   Column  Non-Null Count  Dtype \n",
      "---  ------  --------------  ----- \n",
      " 0   Week    20 non-null     object\n",
      " 1   Yards   20 non-null     int64 \n",
      " 2   TD      20 non-null     int64 \n",
      "dtypes: int64(2), object(1)\n",
      "memory usage: 608.0+ bytes\n"
     ]
    },
    {
     "data": {
      "text/plain": [
       "array(['REG1', 'REG2', 'REG3', 'REG4', 'REG5', 'REG6', 'REG7', 'REG8',\n",
       "       'REG9', 'REG11', 'REG12', 'REG13', 'REG14', 'REG15', 'REG16',\n",
       "       'REG17', 'POST1', 'POST2', 'POST3', 'POST4'], dtype=object)"
      ]
     },
     "execution_count": 51,
     "metadata": {},
     "output_type": "execute_result"
    }
   ],
   "source": [
    "#Look at the structure of Boyd\n",
    "Boyd.info()\n",
    "Boyd.head()\n",
    "Boyd.Week.unique()"
   ]
  },
  {
   "cell_type": "code",
   "execution_count": 50,
   "id": "7a991a47",
   "metadata": {},
   "outputs": [
    {
     "name": "stdout",
     "output_type": "stream",
     "text": [
      "<class 'pandas.core.frame.DataFrame'>\n",
      "RangeIndex: 18 entries, 0 to 17\n",
      "Data columns (total 3 columns):\n",
      " #   Column  Non-Null Count  Dtype \n",
      "---  ------  --------------  ----- \n",
      " 0   Week    18 non-null     object\n",
      " 1   Yards   18 non-null     int64 \n",
      " 2   TD      18 non-null     int64 \n",
      "dtypes: int64(2), object(1)\n",
      "memory usage: 560.0+ bytes\n"
     ]
    },
    {
     "data": {
      "text/plain": [
       "array(['REG1', 'REG2', 'REG5', 'REG6', 'REG7', 'REG8', 'REG9', 'REG11',\n",
       "       'REG12', 'REG13', 'REG14', 'REG15', 'REG16', 'REG17', 'POST1',\n",
       "       'POST2', 'POST3', 'POST4'], dtype=object)"
      ]
     },
     "execution_count": 50,
     "metadata": {},
     "output_type": "execute_result"
    }
   ],
   "source": [
    "#Look at the structure of Higgins\n",
    "Higgins.info()\n",
    "Higgins.head()\n",
    "Higgins.Week.unique()"
   ]
  },
  {
   "cell_type": "code",
   "execution_count": 72,
   "id": "7ed90fdb",
   "metadata": {},
   "outputs": [
    {
     "name": "stdout",
     "output_type": "stream",
     "text": [
      "<class 'pandas.core.frame.DataFrame'>\n",
      "RangeIndex: 21 entries, 0 to 20\n",
      "Data columns (total 3 columns):\n",
      " #   Column  Non-Null Count  Dtype \n",
      "---  ------  --------------  ----- \n",
      " 0   Week    21 non-null     object\n",
      " 1   Yards   21 non-null     int64 \n",
      " 2   TD      21 non-null     int64 \n",
      "dtypes: int64(2), object(1)\n",
      "memory usage: 632.0+ bytes\n"
     ]
    },
    {
     "data": {
      "text/plain": [
       "array(['REG1', 'REG2', 'REG3', 'REG4', 'REG5', 'REG6', 'REG7', 'REG8',\n",
       "       'REG9', 'REG11', 'REG12', 'REG13', 'REG14', 'REG15', 'REG16',\n",
       "       'REG17', 'REG18', 'POST1', 'POST2', 'POST3', 'POST4'], dtype=object)"
      ]
     },
     "execution_count": 72,
     "metadata": {},
     "output_type": "execute_result"
    }
   ],
   "source": [
    "# Look at the structure of Chase\n",
    "Chase.info()\n",
    "Chase.Week.unique()"
   ]
  },
  {
   "cell_type": "code",
   "execution_count": 79,
   "id": "fe5299d5",
   "metadata": {},
   "outputs": [
    {
     "data": {
      "text/html": [
       "<div>\n",
       "<style scoped>\n",
       "    .dataframe tbody tr th:only-of-type {\n",
       "        vertical-align: middle;\n",
       "    }\n",
       "\n",
       "    .dataframe tbody tr th {\n",
       "        vertical-align: top;\n",
       "    }\n",
       "\n",
       "    .dataframe thead th {\n",
       "        text-align: right;\n",
       "    }\n",
       "</style>\n",
       "<table border=\"1\" class=\"dataframe\">\n",
       "  <thead>\n",
       "    <tr style=\"text-align: right;\">\n",
       "      <th></th>\n",
       "      <th>Week</th>\n",
       "      <th>Chase Yards</th>\n",
       "      <th>Chase TD</th>\n",
       "    </tr>\n",
       "  </thead>\n",
       "  <tbody>\n",
       "    <tr>\n",
       "      <th>0</th>\n",
       "      <td>REG1</td>\n",
       "      <td>101</td>\n",
       "      <td>1</td>\n",
       "    </tr>\n",
       "    <tr>\n",
       "      <th>1</th>\n",
       "      <td>REG2</td>\n",
       "      <td>54</td>\n",
       "      <td>1</td>\n",
       "    </tr>\n",
       "    <tr>\n",
       "      <th>2</th>\n",
       "      <td>REG3</td>\n",
       "      <td>65</td>\n",
       "      <td>2</td>\n",
       "    </tr>\n",
       "    <tr>\n",
       "      <th>3</th>\n",
       "      <td>REG4</td>\n",
       "      <td>77</td>\n",
       "      <td>0</td>\n",
       "    </tr>\n",
       "    <tr>\n",
       "      <th>4</th>\n",
       "      <td>REG5</td>\n",
       "      <td>159</td>\n",
       "      <td>1</td>\n",
       "    </tr>\n",
       "  </tbody>\n",
       "</table>\n",
       "</div>"
      ],
      "text/plain": [
       "   Week  Chase Yards  Chase TD\n",
       "0  REG1          101         1\n",
       "1  REG2           54         1\n",
       "2  REG3           65         2\n",
       "3  REG4           77         0\n",
       "4  REG5          159         1"
      ]
     },
     "execution_count": 79,
     "metadata": {},
     "output_type": "execute_result"
    }
   ],
   "source": [
    "#Rename Columns in Chase to prepare for Joining data together\n",
    "Chase.head()\n",
    "\n",
    "#Rename Yards Column and TD column in Chase\n",
    "Chase2 = Chase.rename(columns={'Yards': 'Chase Yards', 'TD': 'Chase TD'})\n",
    "Chase2.head()"
   ]
  },
  {
   "cell_type": "code",
   "execution_count": 80,
   "id": "bfb8d9eb",
   "metadata": {},
   "outputs": [
    {
     "data": {
      "text/html": [
       "<div>\n",
       "<style scoped>\n",
       "    .dataframe tbody tr th:only-of-type {\n",
       "        vertical-align: middle;\n",
       "    }\n",
       "\n",
       "    .dataframe tbody tr th {\n",
       "        vertical-align: top;\n",
       "    }\n",
       "\n",
       "    .dataframe thead th {\n",
       "        text-align: right;\n",
       "    }\n",
       "</style>\n",
       "<table border=\"1\" class=\"dataframe\">\n",
       "  <thead>\n",
       "    <tr style=\"text-align: right;\">\n",
       "      <th></th>\n",
       "      <th>Week</th>\n",
       "      <th>Higgins Yards</th>\n",
       "      <th>Higgins TD</th>\n",
       "    </tr>\n",
       "  </thead>\n",
       "  <tbody>\n",
       "    <tr>\n",
       "      <th>0</th>\n",
       "      <td>REG1</td>\n",
       "      <td>58</td>\n",
       "      <td>1</td>\n",
       "    </tr>\n",
       "    <tr>\n",
       "      <th>1</th>\n",
       "      <td>REG2</td>\n",
       "      <td>60</td>\n",
       "      <td>1</td>\n",
       "    </tr>\n",
       "    <tr>\n",
       "      <th>2</th>\n",
       "      <td>REG5</td>\n",
       "      <td>32</td>\n",
       "      <td>0</td>\n",
       "    </tr>\n",
       "    <tr>\n",
       "      <th>3</th>\n",
       "      <td>REG6</td>\n",
       "      <td>44</td>\n",
       "      <td>0</td>\n",
       "    </tr>\n",
       "    <tr>\n",
       "      <th>4</th>\n",
       "      <td>REG7</td>\n",
       "      <td>62</td>\n",
       "      <td>0</td>\n",
       "    </tr>\n",
       "  </tbody>\n",
       "</table>\n",
       "</div>"
      ],
      "text/plain": [
       "   Week  Higgins Yards  Higgins TD\n",
       "0  REG1             58           1\n",
       "1  REG2             60           1\n",
       "2  REG5             32           0\n",
       "3  REG6             44           0\n",
       "4  REG7             62           0"
      ]
     },
     "execution_count": 80,
     "metadata": {},
     "output_type": "execute_result"
    }
   ],
   "source": [
    "#Rename Columns in Higgins\n",
    "Higgins2 = Higgins.rename(columns={'Yards': 'Higgins Yards', 'TD': 'Higgins TD'})\n",
    "Higgins2.head()"
   ]
  },
  {
   "cell_type": "code",
   "execution_count": 83,
   "id": "1828e997",
   "metadata": {},
   "outputs": [
    {
     "data": {
      "text/html": [
       "<div>\n",
       "<style scoped>\n",
       "    .dataframe tbody tr th:only-of-type {\n",
       "        vertical-align: middle;\n",
       "    }\n",
       "\n",
       "    .dataframe tbody tr th {\n",
       "        vertical-align: top;\n",
       "    }\n",
       "\n",
       "    .dataframe thead th {\n",
       "        text-align: right;\n",
       "    }\n",
       "</style>\n",
       "<table border=\"1\" class=\"dataframe\">\n",
       "  <thead>\n",
       "    <tr style=\"text-align: right;\">\n",
       "      <th></th>\n",
       "      <th>Week</th>\n",
       "      <th>Boyd Yards</th>\n",
       "      <th>Boyd TD</th>\n",
       "    </tr>\n",
       "  </thead>\n",
       "  <tbody>\n",
       "    <tr>\n",
       "      <th>0</th>\n",
       "      <td>REG1</td>\n",
       "      <td>32</td>\n",
       "      <td>0</td>\n",
       "    </tr>\n",
       "    <tr>\n",
       "      <th>1</th>\n",
       "      <td>REG2</td>\n",
       "      <td>73</td>\n",
       "      <td>0</td>\n",
       "    </tr>\n",
       "    <tr>\n",
       "      <th>2</th>\n",
       "      <td>REG3</td>\n",
       "      <td>36</td>\n",
       "      <td>1</td>\n",
       "    </tr>\n",
       "    <tr>\n",
       "      <th>3</th>\n",
       "      <td>REG4</td>\n",
       "      <td>118</td>\n",
       "      <td>0</td>\n",
       "    </tr>\n",
       "    <tr>\n",
       "      <th>4</th>\n",
       "      <td>REG5</td>\n",
       "      <td>24</td>\n",
       "      <td>0</td>\n",
       "    </tr>\n",
       "  </tbody>\n",
       "</table>\n",
       "</div>"
      ],
      "text/plain": [
       "   Week  Boyd Yards  Boyd TD\n",
       "0  REG1          32        0\n",
       "1  REG2          73        0\n",
       "2  REG3          36        1\n",
       "3  REG4         118        0\n",
       "4  REG5          24        0"
      ]
     },
     "execution_count": 83,
     "metadata": {},
     "output_type": "execute_result"
    }
   ],
   "source": [
    "#Rename Columns in Boyd\n",
    "Boyd2 = Boyd.rename(columns={'Yards': 'Boyd Yards', 'TD': 'Boyd TD'})\n",
    "Boyd2.head()"
   ]
  }
 ],
 "metadata": {
  "kernelspec": {
   "display_name": "Python 3 (ipykernel)",
   "language": "python",
   "name": "python3"
  },
  "language_info": {
   "codemirror_mode": {
    "name": "ipython",
    "version": 3
   },
   "file_extension": ".py",
   "mimetype": "text/x-python",
   "name": "python",
   "nbconvert_exporter": "python",
   "pygments_lexer": "ipython3",
   "version": "3.9.13"
  }
 },
 "nbformat": 4,
 "nbformat_minor": 5
}
