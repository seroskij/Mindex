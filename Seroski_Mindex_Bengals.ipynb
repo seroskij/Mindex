{
 "cells": [
  {
   "cell_type": "code",
   "execution_count": 1,
   "id": "524283ee",
   "metadata": {},
   "outputs": [],
   "source": [
    "#import packages\n",
    "#Wow am I actually writing Python?\n",
    "import pandas as pd\n",
    "import boto3\n",
    "from boto3 import session\n",
    "from boto3 import client\n",
    "import os\n",
    "import io\n"
   ]
  },
  {
   "cell_type": "code",
   "execution_count": 21,
   "id": "3324593f",
   "metadata": {},
   "outputs": [
    {
     "name": "stdout",
     "output_type": "stream",
     "text": [
      "bengals.csv\n",
      "boyd_receiving.csv\n",
      "chase_receiving.csv\n",
      "higgins_receiving.csv\n"
     ]
    }
   ],
   "source": [
    "#Connect to S3\n",
    "#Keys passed through as Environmental Variables\n",
    "s3 = boto3.resource('s3')\n",
    "\n",
    "my_bucket = s3.Bucket('mindex-data-analytics-code-challenge')\n",
    "\n",
    "for file in my_bucket.objects.all():\n",
    "    print(file.key)"
   ]
  },
  {
   "cell_type": "code",
   "execution_count": 28,
   "id": "f20d5c16",
   "metadata": {},
   "outputs": [],
   "source": [
    "#Download the files to a local directory\n",
    "#I am sure there is some kind of for loop I could do here\n",
    "s3 = boto3.client('s3')\n",
    "s3.download_file(\n",
    "    Bucket=\"mindex-data-analytics-code-challenge\", Key=\"bengals.csv\", Filename=r\"C:/Users/joe_s/OneDrive/Documents/bengals.csv\"\n",
    ")\n",
    "s3.download_file(\n",
    "    Bucket=\"mindex-data-analytics-code-challenge\", Key=\"boyd_receiving.csv\", Filename=r\"C:/Users/joe_s/OneDrive/Documents/boyd_receiving.csv\"\n",
    ")\n",
    "s3.download_file(\n",
    "    Bucket=\"mindex-data-analytics-code-challenge\", Key=\"chase_receiving.csv\", Filename=r\"C:/Users/joe_s/OneDrive/Documents/chase_receiving.csv\"\n",
    ")\n",
    "s3.download_file(\n",
    "    Bucket=\"mindex-data-analytics-code-challenge\", Key=\"higgins_receiving.csv\", Filename=r\"C:/Users/joe_s/OneDrive/Documents/higgins_receiving.csv\"\n",
    ")"
   ]
  },
  {
   "cell_type": "code",
   "execution_count": null,
   "id": "091ae5b0",
   "metadata": {},
   "outputs": [],
   "source": []
  }
 ],
 "metadata": {
  "kernelspec": {
   "display_name": "Python 3 (ipykernel)",
   "language": "python",
   "name": "python3"
  },
  "language_info": {
   "codemirror_mode": {
    "name": "ipython",
    "version": 3
   },
   "file_extension": ".py",
   "mimetype": "text/x-python",
   "name": "python",
   "nbconvert_exporter": "python",
   "pygments_lexer": "ipython3",
   "version": "3.9.13"
  }
 },
 "nbformat": 4,
 "nbformat_minor": 5
}
